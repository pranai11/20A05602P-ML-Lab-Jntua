{
  "nbformat": 4,
  "nbformat_minor": 0,
  "metadata": {
    "colab": {
      "provenance": [],
      "collapsed_sections": [
        "Z4lSi6lWx4OK",
        "Ws9j2XcyxlKO",
        "Uz5_Ip5ZHXmo",
        "FyLyL689OjpF",
        "2aPkJyHdeTi6",
        "wftfUb-ueyct",
        "aSIYJyPYehb5",
        "y05mNvnOfNr9",
        "MhXwNohmL67b",
        "XOS8d0ghZgqd",
        "L0Lt4isxcAVG"
      ]
    },
    "kernelspec": {
      "name": "python3",
      "display_name": "Python 3"
    },
    "language_info": {
      "name": "python"
    }
  },
  "cells": [
    {
      "cell_type": "markdown",
      "source": [
        "# Basic Python Programs"
      ],
      "metadata": {
        "id": "Z4lSi6lWx4OK"
      }
    },
    {
      "cell_type": "code",
      "execution_count": null,
      "metadata": {
        "colab": {
          "base_uri": "https://localhost:8080/"
        },
        "id": "kiQvxQmKcRlU",
        "outputId": "e53f24c8-7504-4deb-bdbe-d21c30a51169"
      },
      "outputs": [
        {
          "output_type": "stream",
          "name": "stdout",
          "text": [
            "5\n",
            "the number you entered is 5\n"
          ]
        }
      ],
      "source": [
        "# Input a number and print it\n",
        "print(\"the number you entered is\",int(input()))"
      ]
    },
    {
      "cell_type": "code",
      "source": [
        "# Data Types\n",
        "print(type(1))\n",
        "print(type(2+8j))\n",
        "print(type(1.4))\n",
        "print(type('hello'))\n",
        "print(type(True))"
      ],
      "metadata": {
        "colab": {
          "base_uri": "https://localhost:8080/"
        },
        "id": "jWdiMIyy2x5k",
        "outputId": "5eb5fc92-25e8-441f-bef3-0e8fde831bf0"
      },
      "execution_count": null,
      "outputs": [
        {
          "output_type": "stream",
          "name": "stdout",
          "text": [
            "<class 'int'>\n",
            "<class 'complex'>\n",
            "<class 'float'>\n",
            "<class 'str'>\n",
            "<class 'bool'>\n"
          ]
        }
      ]
    },
    {
      "cell_type": "code",
      "source": [
        "# Arithmetic operators\n",
        "a,b=map(int,input(\"enter a and b value....\",).split())\n",
        "print(\"a+b=\",a+b)\n",
        "print(\"a-b=\",a-b)\n",
        "print(\"a*b=\",a*b)\n",
        "print(\"a/b=\",a/b)\n",
        "print(\"a//b=\",a//b)\n",
        "print(\"a%b=\",a%b)"
      ],
      "metadata": {
        "colab": {
          "base_uri": "https://localhost:8080/"
        },
        "id": "v1aoxM4lcwOT",
        "outputId": "a050ca20-41d6-43da-94f8-bff74de6532c"
      },
      "execution_count": null,
      "outputs": [
        {
          "output_type": "stream",
          "name": "stdout",
          "text": [
            "enter a and b value....4 2\n",
            "a+b= 6\n",
            "a-b= 2\n",
            "a*b= 8\n",
            "a/b= 2.0\n",
            "a//b= 2\n",
            "a%b= 0\n"
          ]
        }
      ]
    },
    {
      "cell_type": "code",
      "source": [
        "# Max of two numbers\n",
        "a,b=map(int,input(\"enter a and b value....\").split())\n",
        "print(\"Max of\",a,\" and\",b,\" is\",max(a,b))"
      ],
      "metadata": {
        "colab": {
          "base_uri": "https://localhost:8080/"
        },
        "id": "xocRrAYyd-Ap",
        "outputId": "2023a747-4c3f-4be3-b5e7-4ee63e99ed27"
      },
      "execution_count": null,
      "outputs": [
        {
          "output_type": "stream",
          "name": "stdout",
          "text": [
            "enter a and b value....54 7\n",
            "Max of 54  and 7  is 54\n"
          ]
        }
      ]
    },
    {
      "cell_type": "code",
      "source": [
        "# Min of two numbers\n",
        "a,b=map(int,input(\"enter a and b value....\").split())\n",
        "print(\"Min of\",a,\" and\",b,\" is\",min(a,b))"
      ],
      "metadata": {
        "colab": {
          "base_uri": "https://localhost:8080/"
        },
        "id": "lQ-LiUA7fuuw",
        "outputId": "ed22b032-4d13-4c94-996b-788f8eb04aa3"
      },
      "execution_count": null,
      "outputs": [
        {
          "output_type": "stream",
          "name": "stdout",
          "text": [
            "enter a and b value....4 6\n",
            "Min of 4  and 6  is 4\n"
          ]
        }
      ]
    },
    {
      "cell_type": "code",
      "source": [
        "# Min and Max of three numbers\n",
        "a,b,c=map(int,input(\"Enter a,b and c values....\").split())\n",
        "print(\"Max of\",a,\" ,\",b,\" and\",c,\" is\",max(a,b,c))\n",
        "print(\"Min of\",a,\" ,\",b,\" and\",c,\" is\",min(a,b,c))"
      ],
      "metadata": {
        "colab": {
          "base_uri": "https://localhost:8080/"
        },
        "id": "q4e-oeXPf5L_",
        "outputId": "4776642e-6af8-4f4a-f69e-f5199489dcb3"
      },
      "execution_count": null,
      "outputs": [
        {
          "output_type": "stream",
          "name": "stdout",
          "text": [
            "Enter a,b and c values....3 4 5\n",
            "Max of 3  , 4  and 5  is 5\n",
            "Min of 3  , 4  and 5  is 3\n"
          ]
        }
      ]
    },
    {
      "cell_type": "code",
      "source": [
        "# For Loop\n",
        "for i in range(0,int(input(\"enter a value to print the numbers before it.....\"))):\n",
        "  print(i)"
      ],
      "metadata": {
        "colab": {
          "base_uri": "https://localhost:8080/"
        },
        "id": "yf3cIyxogSb0",
        "outputId": "e5f42baf-ab85-4ed8-9d51-717d52616e22"
      },
      "execution_count": null,
      "outputs": [
        {
          "output_type": "stream",
          "name": "stdout",
          "text": [
            "enter a value to print the numbers before it.....5\n",
            "0\n",
            "1\n",
            "2\n",
            "3\n",
            "4\n"
          ]
        }
      ]
    },
    {
      "cell_type": "code",
      "source": [
        "# While Loop\n",
        "i=0\n",
        "z=int(input(\"enter a value to print the numbers before it.....\"))\n",
        "while i < z:\n",
        "  print(i)\n",
        "  i+=1"
      ],
      "metadata": {
        "colab": {
          "base_uri": "https://localhost:8080/"
        },
        "id": "CMuLePgegtk3",
        "outputId": "96762183-26b5-456c-9423-5ff425903668"
      },
      "execution_count": null,
      "outputs": [
        {
          "output_type": "stream",
          "name": "stdout",
          "text": [
            "enter a value to print the numbers before it.....5\n",
            "0\n",
            "1\n",
            "2\n",
            "3\n",
            "4\n"
          ]
        }
      ]
    },
    {
      "cell_type": "code",
      "source": [
        "# Even numbers\n",
        "print(*[i for i in range(1,int(input())) if i%2==0])"
      ],
      "metadata": {
        "colab": {
          "base_uri": "https://localhost:8080/"
        },
        "id": "TGdwlKdFhBB7",
        "outputId": "6e062d5b-115c-4dbd-a6ae-833bd12f3125"
      },
      "execution_count": null,
      "outputs": [
        {
          "output_type": "stream",
          "name": "stdout",
          "text": [
            "15\n",
            "2 4 6 8 10 12 14\n"
          ]
        }
      ]
    },
    {
      "cell_type": "code",
      "source": [
        "# Odd numbers\n",
        "print(*[i for i in range(1,int(input())) if i%2!=0])"
      ],
      "metadata": {
        "colab": {
          "base_uri": "https://localhost:8080/"
        },
        "id": "q-XN4mg9hnAX",
        "outputId": "84df8899-563c-4101-95cb-1fb7126000ca"
      },
      "execution_count": null,
      "outputs": [
        {
          "output_type": "stream",
          "name": "stdout",
          "text": [
            "15\n",
            "1 3 5 7 9 11 13\n"
          ]
        }
      ]
    },
    {
      "cell_type": "code",
      "source": [
        "# Factorial\n",
        "print([z:=1,[z:=z*i for i in range(1,int(input(\"The factorial of \"))+1)][-1]][-1])"
      ],
      "metadata": {
        "colab": {
          "base_uri": "https://localhost:8080/"
        },
        "id": "WnFaak82h5o3",
        "outputId": "a45ac07e-62db-4f9e-a70c-af704ac9fc7c"
      },
      "execution_count": null,
      "outputs": [
        {
          "output_type": "stream",
          "name": "stdout",
          "text": [
            "The factorial of 5\n",
            "120\n"
          ]
        }
      ]
    },
    {
      "cell_type": "code",
      "source": [
        "# Reverse and Palindrome\n",
        "n = int(input(\"Enter a number: \"))\n",
        "rev=0\n",
        "t=n\n",
        "while n>0:\n",
        "  r=n%10\n",
        "  rev=(rev*10)+r\n",
        "  n=n//10\n",
        "print(\"Reverse of\",t,\"is\",rev)\n",
        "if t==rev:\n",
        "  print(\"It is a palindrome\")\n",
        "else:\n",
        "  print(\"It is not a palindrome\")"
      ],
      "metadata": {
        "colab": {
          "base_uri": "https://localhost:8080/"
        },
        "id": "N6vK8fFSiWwu",
        "outputId": "3a6c3421-6891-4e12-b2db-ac35e4560658"
      },
      "execution_count": null,
      "outputs": [
        {
          "output_type": "stream",
          "name": "stdout",
          "text": [
            "Enter a number: 453\n",
            "Reverse of 453 is 354\n",
            "It is not a palindrome\n"
          ]
        }
      ]
    },
    {
      "cell_type": "code",
      "source": [
        "# prime number\n",
        "n=int(input(\"Enter a number:\"))\n",
        "c=0\n",
        "for i in range(1,n):\n",
        "  if n%i==0:\n",
        "    c+=1\n",
        "if c>2:\n",
        "  print(\"It is not a prime number\")\n",
        "else:\n",
        "  print(\"It is a prime number\")"
      ],
      "metadata": {
        "colab": {
          "base_uri": "https://localhost:8080/"
        },
        "id": "EgDIfY7yjuMe",
        "outputId": "b81b3f2d-b0cc-4541-b898-f499031f804b"
      },
      "execution_count": null,
      "outputs": [
        {
          "output_type": "stream",
          "name": "stdout",
          "text": [
            "Enter a number:5\n",
            "It is a prime number\n"
          ]
        }
      ]
    },
    {
      "cell_type": "code",
      "source": [
        "# Perfect number\n",
        "n = int(input(\"Enter a number: \"))\n",
        "sum=0\n",
        "for i in range(1,n):\n",
        "    if i%2==0:\n",
        "      sum=sum+i\n",
        "if sum==n:\n",
        "  print(\"It is a perfect number\")\n",
        "else:\n",
        "  print(\"It is not a perfect number\")"
      ],
      "metadata": {
        "colab": {
          "base_uri": "https://localhost:8080/"
        },
        "id": "O0q-Jo_fkmz8",
        "outputId": "3cfebda0-b35a-402f-9107-ae26e678db94"
      },
      "execution_count": null,
      "outputs": [
        {
          "output_type": "stream",
          "name": "stdout",
          "text": [
            "Enter a number: 6\n",
            "It is a perfect number\n"
          ]
        }
      ]
    },
    {
      "cell_type": "code",
      "source": [
        "# armstrong number\n",
        "n = int(input(\"Enter a number: \"))\n",
        "val=0\n",
        "t=n\n",
        "while n>0:\n",
        "  r=n%10\n",
        "  val=r**3+val\n",
        "  n=n//10\n",
        "if t==val:\n",
        "  print(\"It is an armstrong number\")\n",
        "else:\n",
        "  print(\"It is not an armstrong number\")"
      ],
      "metadata": {
        "colab": {
          "base_uri": "https://localhost:8080/"
        },
        "id": "ksCwVIMAlwFV",
        "outputId": "d6f6d730-cdc0-4542-c522-4aa91d7597c8"
      },
      "execution_count": null,
      "outputs": [
        {
          "output_type": "stream",
          "name": "stdout",
          "text": [
            "Enter a number: 153\n",
            "It is an armstrong number\n"
          ]
        }
      ]
    },
    {
      "cell_type": "code",
      "source": [
        "# sum,min,max,array creating and printing\n",
        "arr = list(map(int,input(\"Enter array elements \").split()))\n",
        "print(arr)\n",
        "print(\"Elements of array are\",*arr)\n",
        "print(max(arr))\n",
        "print(min(arr))\n",
        "sum=0\n",
        "for i in range(len(arr)):\n",
        "  sum+=arr[i]\n",
        "print(sum)"
      ],
      "metadata": {
        "colab": {
          "base_uri": "https://localhost:8080/"
        },
        "id": "KCLGURyooN97",
        "outputId": "7d32e52c-bd3e-45d3-e6ba-b5fa506973f7"
      },
      "execution_count": null,
      "outputs": [
        {
          "output_type": "stream",
          "name": "stdout",
          "text": [
            "Enter array elements 4 5 2 7\n",
            "[4, 5, 2, 7]\n",
            "Elements of array are 4 5 2 7\n",
            "7\n",
            "2\n",
            "18\n"
          ]
        }
      ]
    },
    {
      "cell_type": "code",
      "source": [
        "# Linear Search\n",
        "arr = list(map(int,input(\"Enter array elements \").split()))\n",
        "n = int(input(\"enter value to be searched:\"))\n",
        "for i in range(len(arr)):\n",
        "  if arr[i]==n:\n",
        "    print(\"Element found at:\",i)\n",
        "    v=1\n",
        "    break\n",
        "if v==0:\n",
        "  print(\"Elemnt not found\")"
      ],
      "metadata": {
        "colab": {
          "base_uri": "https://localhost:8080/"
        },
        "id": "5qwOYg15o7G5",
        "outputId": "5d74559f-23e5-4830-acae-1012df3d3782"
      },
      "execution_count": null,
      "outputs": [
        {
          "output_type": "stream",
          "name": "stdout",
          "text": [
            "Enter array elements 4 5 6 2 9\n",
            "enter value to be searched:5\n",
            "Element found at: 1\n"
          ]
        }
      ]
    },
    {
      "cell_type": "code",
      "source": [
        "# Binary Search\n",
        "arr = list(map(int,input(\"Enter array elements \").split()))\n",
        "n = int(input(\"enter value to be searched:\"))\n",
        "low = 0\n",
        "high = len(arr)\n",
        "mid=high//2\n",
        "while low<=high:\n",
        "  if n==arr[mid]:\n",
        "    print(\"Element is found at \",i)\n",
        "    break\n",
        "  elif n>arr[mid]:\n",
        "    low = mid+1\n",
        "  else:\n",
        "    high = mid-1\n",
        "if low>high:\n",
        "  print(\"Element is not found\")"
      ],
      "metadata": {
        "colab": {
          "base_uri": "https://localhost:8080/"
        },
        "id": "v0yDQi7aw3K0",
        "outputId": "ed879ba6-8288-4e7c-c998-97ee23238ba3"
      },
      "execution_count": null,
      "outputs": [
        {
          "output_type": "stream",
          "name": "stdout",
          "text": [
            "Enter array elements 3 4 5 6 7\n",
            "enter value to be searched:5\n",
            "Element is found at  1\n"
          ]
        }
      ]
    },
    {
      "cell_type": "code",
      "source": [
        "# User Defined Function\n",
        "def user():\n",
        "    print(\"I am from user defined function\")\n",
        "user()"
      ],
      "metadata": {
        "colab": {
          "base_uri": "https://localhost:8080/"
        },
        "id": "wnr2CJram_J1",
        "outputId": "485b3db8-dc2f-40fb-a395-5cf02c6b68ed"
      },
      "execution_count": null,
      "outputs": [
        {
          "output_type": "stream",
          "name": "stdout",
          "text": [
            "I am from user defined function\n"
          ]
        }
      ]
    },
    {
      "cell_type": "code",
      "source": [
        "# Function to add two numbers using user defined function\n",
        "def add(m,n):\n",
        "    sum = m+n\n",
        "    print(\"Sum of two numbers is...\",sum)\n",
        "add(int(input(\"Enter first number...\")),int(input(\"Enter second number...\")))"
      ],
      "metadata": {
        "colab": {
          "base_uri": "https://localhost:8080/"
        },
        "id": "WeoOhGxanZzz",
        "outputId": "fc9999a1-7521-40d3-e4d7-03e3e313731a"
      },
      "execution_count": null,
      "outputs": [
        {
          "output_type": "stream",
          "name": "stdout",
          "text": [
            "Enter first number...4\n",
            "Enter second number...6\n",
            "Sum of two numbers is... 10\n"
          ]
        }
      ]
    },
    {
      "cell_type": "code",
      "source": [
        "# Factorial of a number using user defined funtion\n",
        "def fact(m):\n",
        "    f=1\n",
        "    for i in range(1,m+1):\n",
        "        f=f*i\n",
        "    print(\"Factorial of given number is....\",f)\n",
        "fact(int(input(\"Enter a number....\")))"
      ],
      "metadata": {
        "colab": {
          "base_uri": "https://localhost:8080/"
        },
        "id": "eaTio5jrnZsT",
        "outputId": "1248f054-fd4e-4483-e96e-7654e69331d7"
      },
      "execution_count": null,
      "outputs": [
        {
          "output_type": "stream",
          "name": "stdout",
          "text": [
            "Enter a number....4\n",
            "Factorial of given number is.... 24\n"
          ]
        }
      ]
    },
    {
      "cell_type": "code",
      "source": [
        "# Power of a number using user defined function\n",
        "def pow(m,n):\n",
        "    p=1\n",
        "    for i in range(n):\n",
        "        p=p*m\n",
        "    print(\"Power is...\",p)\n",
        "pow(int(input(\"enter a number.....\")),int(input(\"Enter the power....\")))\n"
      ],
      "metadata": {
        "colab": {
          "base_uri": "https://localhost:8080/"
        },
        "id": "mdSbhllvnZaM",
        "outputId": "d1f15e8a-aaed-49ea-8ce1-c5dad471599f"
      },
      "execution_count": null,
      "outputs": [
        {
          "output_type": "stream",
          "name": "stdout",
          "text": [
            "enter a number.....3\n",
            "Enter the power....3\n",
            "Power is... 27\n"
          ]
        }
      ]
    },
    {
      "cell_type": "code",
      "source": [
        "# Function to product two numbers using user defined function with return value\n",
        "def prod(m,n):\n",
        "    p = m*n\n",
        "    return p\n",
        "print(\"product of two numbers is...\",prod(int(input(\"Enter first number...\")),int(input(\"Enter second number...\"))))"
      ],
      "metadata": {
        "colab": {
          "base_uri": "https://localhost:8080/"
        },
        "id": "geq6UwXIpmsb",
        "outputId": "b59858b1-1bea-42c4-b6e6-15ba16a1421b"
      },
      "execution_count": null,
      "outputs": [
        {
          "output_type": "stream",
          "name": "stdout",
          "text": [
            "Enter first number...3\n",
            "Enter second number...4\n",
            "product of two numbers is... 12\n"
          ]
        }
      ]
    },
    {
      "cell_type": "code",
      "source": [
        "# Factorial using Recursion\n",
        "def fact(m):\n",
        "    if m==1:\n",
        "        return 1\n",
        "    else:\n",
        "        return m*fact(m-1)\n",
        "print(\"factorial of given number is.....\",fact(int(input(\"Enter a number....\"))))"
      ],
      "metadata": {
        "colab": {
          "base_uri": "https://localhost:8080/"
        },
        "id": "TT4idhbepmnk",
        "outputId": "9b5d8f5d-6dec-4f89-b6db-f6b0a2f9f867"
      },
      "execution_count": null,
      "outputs": [
        {
          "output_type": "stream",
          "name": "stdout",
          "text": [
            "Enter a number....4\n",
            "factorial of given number is..... 24\n"
          ]
        }
      ]
    },
    {
      "cell_type": "code",
      "source": [
        "# Read and Write matrices\n",
        "m,n,p,q=map(int,input().split())\n",
        "fir=[[int(input()) for row in range(m)] for column in range(n)]\n",
        "sec=[[int(input()) for row in range(p)] for column in range(q)]\n",
        "print(*fir[0:m][0:n])\n",
        "print(*sec[0:p][0:q])"
      ],
      "metadata": {
        "colab": {
          "base_uri": "https://localhost:8080/"
        },
        "id": "4_ZQwturpmh6",
        "outputId": "ff21c8f0-1987-4ea4-ae05-351bafb16cb0"
      },
      "execution_count": null,
      "outputs": [
        {
          "output_type": "stream",
          "name": "stdout",
          "text": [
            "2 1 2 1\n",
            "2\n",
            "3\n",
            "5\n",
            "6\n",
            "[2, 3]\n",
            "[5, 6]\n"
          ]
        }
      ]
    },
    {
      "cell_type": "code",
      "source": [
        "# Add two matrices\n",
        "m,n,p,q=map(int,input().split())\n",
        "fir=[[int(input()) for row in range(m)] for column in range(n)]\n",
        "sec=[[int(input()) for row in range(p)] for column in range(q)]\n",
        "if m==p and n==q:\n",
        "    c=[[0 for row in range(m)] for column in range(n)]\n",
        "    for i in range(m):\n",
        "        for j in range(n):\n",
        "            c[i][j]=fir[i][j]+sec[i][j]\n",
        "else:\n",
        "    print(\"Not possible\")\n",
        "print(\"sum is..\",*c)"
      ],
      "metadata": {
        "colab": {
          "base_uri": "https://localhost:8080/"
        },
        "id": "rqwOWwa1vmEO",
        "outputId": "ebc0a3ee-17b4-4936-89bb-59471de09d67"
      },
      "execution_count": null,
      "outputs": [
        {
          "output_type": "stream",
          "name": "stdout",
          "text": [
            "2 2 2 2\n",
            "2\n",
            "3\n",
            "4\n",
            "5\n",
            "6\n",
            "7\n",
            "8\n",
            "9\n",
            "sum is.. [8, 10] [12, 14]\n"
          ]
        }
      ]
    },
    {
      "cell_type": "code",
      "source": [
        "# Subtract two matrices\n",
        "m,n,p,q=map(int,input().split())\n",
        "fir=[[int(input()) for row in range(m)] for column in range(n)]\n",
        "sec=[[int(input()) for row in range(p)] for column in range(q)]\n",
        "if m==p and n==q:\n",
        "    c=[[0 for row in range(m)] for column in range(n)]\n",
        "    for i in range(m):\n",
        "        for j in range(n):\n",
        "            c[i][j]=fir[i][j]-sec[i][j]\n",
        "else:\n",
        "    print(\"Not possible\")\n",
        "print(\"Difference is..\",*c)"
      ],
      "metadata": {
        "colab": {
          "base_uri": "https://localhost:8080/"
        },
        "id": "rE9HSthwx1fc",
        "outputId": "a71f9795-9709-4d81-eb7d-3a4617eebac8"
      },
      "execution_count": null,
      "outputs": [
        {
          "output_type": "stream",
          "name": "stdout",
          "text": [
            "2 2 2 2\n",
            "9\n",
            "8\n",
            "7\n",
            "6\n",
            "5\n",
            "4\n",
            "3\n",
            "2\n",
            "Difference is.. [4, 4] [4, 4]\n"
          ]
        }
      ]
    },
    {
      "cell_type": "code",
      "source": [
        "# Area of circle\n",
        "import math\n",
        "r=int(input(\"Ener radius of the circle...\"))\n",
        "area=math.pi*r*r\n",
        "print(\"Area of circle is...\",round(area,4))"
      ],
      "metadata": {
        "colab": {
          "base_uri": "https://localhost:8080/"
        },
        "id": "yTPXJa6nybo0",
        "outputId": "008d121f-d776-455e-9da6-32d8c33b1e1b"
      },
      "execution_count": null,
      "outputs": [
        {
          "output_type": "stream",
          "name": "stdout",
          "text": [
            "Ener radius of the circle...4\n",
            "Area of circle is... 50.2655\n"
          ]
        }
      ]
    },
    {
      "cell_type": "code",
      "source": [
        "# Finding length of two strings\n",
        "print(\"length of the string is...\",len(input(\"Enter a string...\")))"
      ],
      "metadata": {
        "colab": {
          "base_uri": "https://localhost:8080/"
        },
        "id": "wXnSho5bzjc0",
        "outputId": "f3999754-0427-46bd-c1fc-e0f61befd422"
      },
      "execution_count": null,
      "outputs": [
        {
          "output_type": "stream",
          "name": "stdout",
          "text": [
            "Enter a string...hello\n",
            "length of the string is... 5\n"
          ]
        }
      ]
    },
    {
      "cell_type": "code",
      "source": [
        "# Concatinating two strings\n",
        "print(\"Concatinated string is...\",input(\"Enter first string....\")+\" \"+input(\"Enter second string...\"))"
      ],
      "metadata": {
        "colab": {
          "base_uri": "https://localhost:8080/"
        },
        "id": "rEuRbfQqzi8z",
        "outputId": "bd26744d-b409-4c54-9eb0-da3094ad0f5e"
      },
      "execution_count": null,
      "outputs": [
        {
          "output_type": "stream",
          "name": "stdout",
          "text": [
            "Enter first string....Hi\n",
            "Enter second string...How are you\n",
            "Concatinated string is... Hi How are you\n"
          ]
        }
      ]
    },
    {
      "cell_type": "code",
      "source": [
        "# Comparing two strings\n",
        "x=input(\"Enter second string...\")\n",
        "y=input(\"Enter first string..\")\n",
        "if y == x:\n",
        "    print(\"Equal\")\n",
        "elif y>x:\n",
        "    print(y,\" is greater\")\n",
        "else:\n",
        "    print(x,\" is greater\")"
      ],
      "metadata": {
        "colab": {
          "base_uri": "https://localhost:8080/"
        },
        "id": "tFpvI_9x0Yn8",
        "outputId": "0491762e-4033-4576-954a-56000ac2a2a7"
      },
      "execution_count": null,
      "outputs": [
        {
          "output_type": "stream",
          "name": "stdout",
          "text": [
            "Enter second string...hello\n",
            "Enter first string..namaste\n",
            "namaste  is greater\n"
          ]
        }
      ]
    },
    {
      "cell_type": "markdown",
      "source": [
        "# **LAB PROGRAMS OF JNTUA MACHINE LEARNING R20**\n"
      ],
      "metadata": {
        "id": "7YpDrU5wbqJV"
      }
    },
    {
      "cell_type": "markdown",
      "source": [
        "# Lab Program 1"
      ],
      "metadata": {
        "id": "Ws9j2XcyxlKO"
      }
    },
    {
      "cell_type": "code",
      "source": [
        "import pandas as pd\n",
        "import numpy as np\n",
        "#to read the data in the csv file\n",
        "data = pd.read_csv(\"prg1.csv\")\n",
        "print(data,\"n\")\n",
        "#making an array of all the attributes\n",
        "d = np.array(data)[:,:-1]\n",
        "print(\"n The attributes are: \",d)\n",
        "#segragating the target that has positive and negative examples\n",
        "target = np.array(data)[:,-1]\n",
        "print(\"n The target is: \",target)\n",
        "#training function to implement find-s algorithm\n",
        "def train(c,t):\n",
        "    for i, val in enumerate(t):\n",
        "        if val == \"Yes\":\n",
        "            specific_hypothesis = c[i].copy()\n",
        "            break\n",
        "    for i, val in enumerate(c):\n",
        "        if t[i] == \"Yes\":\n",
        "            for x in range(len(specific_hypothesis)):\n",
        "                if val[x] != specific_hypothesis[x]:\n",
        "                    specific_hypothesis[x] = '?'\n",
        "                else:\n",
        "                    pass\n",
        "\n",
        "    return specific_hypothesis\n",
        "#obtaining the final hypothesis\n",
        "print(\"n The final hypothesis is:\",train(d,target))\n"
      ],
      "metadata": {
        "colab": {
          "base_uri": "https://localhost:8080/"
        },
        "id": "S-D3drC3vTlD",
        "outputId": "3fbe8c76-cc47-48e0-869d-c9acd14842c1"
      },
      "execution_count": null,
      "outputs": [
        {
          "output_type": "stream",
          "name": "stdout",
          "text": [
            "      Time Weather Temperature Company Humidity    Wind Goes\n",
            "0  Morning   Sunny        Warm     Yes     Mild  Strong  Yes\n",
            "1  Evening   Rainy        Cold      No     Mild  Normal   NO\n",
            "2  Morning   Sunny    Moderate     Yes   Normal  Normal  Yes\n",
            "3  Evening   Sunny        Cold     Yes     High  Strong  Yes n\n",
            "n The attributes are:  [['Morning' 'Sunny' 'Warm' 'Yes' 'Mild' 'Strong']\n",
            " ['Evening' 'Rainy' 'Cold' 'No' 'Mild' 'Normal']\n",
            " ['Morning' 'Sunny' 'Moderate' 'Yes' 'Normal' 'Normal']\n",
            " ['Evening' 'Sunny' 'Cold' 'Yes' 'High' 'Strong']]\n",
            "n The target is:  ['Yes' 'NO' 'Yes' 'Yes']\n",
            "n The final hypothesis is: ['?' 'Sunny' '?' 'Yes' '?' '?']\n"
          ]
        }
      ]
    },
    {
      "cell_type": "code",
      "source": [],
      "metadata": {
        "id": "PF4KUVXsxS1w"
      },
      "execution_count": null,
      "outputs": []
    },
    {
      "cell_type": "markdown",
      "source": [
        "# Lab Program 2"
      ],
      "metadata": {
        "id": "Uz5_Ip5ZHXmo"
      }
    },
    {
      "cell_type": "code",
      "source": [
        "import numpy as np\n",
        "import pandas as pd\n",
        "data = pd.read_csv('prg2.csv')\n",
        "print(\" Given data : \\n\\n\",data)\n",
        "concepts = np.array(data.iloc[:,0:-1])\n",
        "print(\"\\nInstances are:\\n\\n\",concepts)\n",
        "target = np.array(data.iloc[:,-1])\n",
        "print(\"\\nTarget Values are: \",target)\n",
        "def learn(concepts, target):\n",
        "    specific_h = concepts[0].copy()\n",
        "    print(\"\\nInitialization of specific_h and genearal_h\")\n",
        "    print(\"\\nSpecific Boundary: \", specific_h)\n",
        "    general_h = [[\"?\" for i in range(len(specific_h))] for i in range(len(specific_h))]\n",
        "    print(\"\\nGeneric Boundary: \",general_h)\n",
        "    for i, h in enumerate(concepts):\n",
        "        print(\"\\nInstance\", i+1 , \"is \", h)\n",
        "        if target[i] == \"yes\":\n",
        "            print(\"Instance is Positive \")\n",
        "            for x in range(len(specific_h)):\n",
        "                if h[x]!= specific_h[x]:\n",
        "                    specific_h[x] ='?'\n",
        "                    general_h[x][x] ='?'\n",
        "        if target[i] == \"no\":\n",
        "            print(\"Instance is Negative \")\n",
        "            for x in range(len(specific_h)):\n",
        "                if h[x]!= specific_h[x]:\n",
        "                    general_h[x][x] = specific_h[x]\n",
        "                else:\n",
        "                    general_h[x][x] = '?'\n",
        "        print(\"Specific Bundary after \", i+1, \"Instance is \", specific_h)\n",
        "        print(\"Generic Boundary after \", i+1, \"Instance is \", general_h)\n",
        "        print(\"\\n\")\n",
        "    indices = [i for i, val in enumerate(general_h) if val == ['?', '?', '?', '?', '?', '?']]\n",
        "    for i in indices:\n",
        "        general_h.remove(['?', '?', '?', '?', '?', '?'])\n",
        "    return specific_h, general_h\n",
        "s_final, g_final = learn(concepts, target)\n",
        "print(\"Final Specific_h: \", s_final, sep=\"\\n\")\n",
        "print(\"Final General_h: \", g_final, sep=\"\\n\")"
      ],
      "metadata": {
        "colab": {
          "base_uri": "https://localhost:8080/"
        },
        "id": "mOirCqjHHXNE",
        "outputId": "450124ad-cdda-4c3e-901a-3648edcc1502"
      },
      "execution_count": null,
      "outputs": [
        {
          "output_type": "stream",
          "name": "stdout",
          "text": [
            " Given data : \n",
            "\n",
            "    S.NO.    Sky Temperature Humidity    Wind Water Forecast Enjoy Sport\n",
            "0      1  Sunny        Warm   Normal  Strong  Warm     Same         Yes\n",
            "1      2  Sunny        Warm     High  Strong  Warm     Same         Yes\n",
            "2      3  Rainy        Cold     High  Strong  Warm   Change          No\n",
            "3      4  Sunny        Warm     High  Strong  Cool   Change         Yes\n",
            "\n",
            "Instances are:\n",
            "\n",
            " [[1 'Sunny' 'Warm' 'Normal' 'Strong' 'Warm' 'Same']\n",
            " [2 'Sunny' 'Warm' 'High' 'Strong' 'Warm' 'Same']\n",
            " [3 'Rainy' 'Cold' 'High' 'Strong' 'Warm' 'Change']\n",
            " [4 'Sunny' 'Warm' 'High' 'Strong' 'Cool' 'Change']]\n",
            "\n",
            "Target Values are:  ['Yes' 'Yes' 'No' 'Yes']\n",
            "\n",
            "Initialization of specific_h and genearal_h\n",
            "\n",
            "Specific Boundary:  [1 'Sunny' 'Warm' 'Normal' 'Strong' 'Warm' 'Same']\n",
            "\n",
            "Generic Boundary:  [['?', '?', '?', '?', '?', '?', '?'], ['?', '?', '?', '?', '?', '?', '?'], ['?', '?', '?', '?', '?', '?', '?'], ['?', '?', '?', '?', '?', '?', '?'], ['?', '?', '?', '?', '?', '?', '?'], ['?', '?', '?', '?', '?', '?', '?'], ['?', '?', '?', '?', '?', '?', '?']]\n",
            "\n",
            "Instance 1 is  [1 'Sunny' 'Warm' 'Normal' 'Strong' 'Warm' 'Same']\n",
            "Specific Bundary after  1 Instance is  [1 'Sunny' 'Warm' 'Normal' 'Strong' 'Warm' 'Same']\n",
            "Generic Boundary after  1 Instance is  [['?', '?', '?', '?', '?', '?', '?'], ['?', '?', '?', '?', '?', '?', '?'], ['?', '?', '?', '?', '?', '?', '?'], ['?', '?', '?', '?', '?', '?', '?'], ['?', '?', '?', '?', '?', '?', '?'], ['?', '?', '?', '?', '?', '?', '?'], ['?', '?', '?', '?', '?', '?', '?']]\n",
            "\n",
            "\n",
            "\n",
            "Instance 2 is  [2 'Sunny' 'Warm' 'High' 'Strong' 'Warm' 'Same']\n",
            "Specific Bundary after  2 Instance is  [1 'Sunny' 'Warm' 'Normal' 'Strong' 'Warm' 'Same']\n",
            "Generic Boundary after  2 Instance is  [['?', '?', '?', '?', '?', '?', '?'], ['?', '?', '?', '?', '?', '?', '?'], ['?', '?', '?', '?', '?', '?', '?'], ['?', '?', '?', '?', '?', '?', '?'], ['?', '?', '?', '?', '?', '?', '?'], ['?', '?', '?', '?', '?', '?', '?'], ['?', '?', '?', '?', '?', '?', '?']]\n",
            "\n",
            "\n",
            "\n",
            "Instance 3 is  [3 'Rainy' 'Cold' 'High' 'Strong' 'Warm' 'Change']\n",
            "Specific Bundary after  3 Instance is  [1 'Sunny' 'Warm' 'Normal' 'Strong' 'Warm' 'Same']\n",
            "Generic Boundary after  3 Instance is  [['?', '?', '?', '?', '?', '?', '?'], ['?', '?', '?', '?', '?', '?', '?'], ['?', '?', '?', '?', '?', '?', '?'], ['?', '?', '?', '?', '?', '?', '?'], ['?', '?', '?', '?', '?', '?', '?'], ['?', '?', '?', '?', '?', '?', '?'], ['?', '?', '?', '?', '?', '?', '?']]\n",
            "\n",
            "\n",
            "\n",
            "Instance 4 is  [4 'Sunny' 'Warm' 'High' 'Strong' 'Cool' 'Change']\n",
            "Specific Bundary after  4 Instance is  [1 'Sunny' 'Warm' 'Normal' 'Strong' 'Warm' 'Same']\n",
            "Generic Boundary after  4 Instance is  [['?', '?', '?', '?', '?', '?', '?'], ['?', '?', '?', '?', '?', '?', '?'], ['?', '?', '?', '?', '?', '?', '?'], ['?', '?', '?', '?', '?', '?', '?'], ['?', '?', '?', '?', '?', '?', '?'], ['?', '?', '?', '?', '?', '?', '?'], ['?', '?', '?', '?', '?', '?', '?']]\n",
            "\n",
            "\n",
            "Final Specific_h: \n",
            "[1 'Sunny' 'Warm' 'Normal' 'Strong' 'Warm' 'Same']\n",
            "Final General_h: \n",
            "[['?', '?', '?', '?', '?', '?', '?'], ['?', '?', '?', '?', '?', '?', '?'], ['?', '?', '?', '?', '?', '?', '?'], ['?', '?', '?', '?', '?', '?', '?'], ['?', '?', '?', '?', '?', '?', '?'], ['?', '?', '?', '?', '?', '?', '?'], ['?', '?', '?', '?', '?', '?', '?']]\n"
          ]
        }
      ]
    },
    {
      "cell_type": "code",
      "source": [],
      "metadata": {
        "id": "bAictTP5I-lu"
      },
      "execution_count": null,
      "outputs": []
    },
    {
      "cell_type": "markdown",
      "source": [
        "# Lab Program 3"
      ],
      "metadata": {
        "id": "FyLyL689OjpF"
      }
    },
    {
      "cell_type": "code",
      "source": [
        "import pandas as pd\n",
        "import math\n",
        "import numpy as np\n",
        "\n",
        "data = pd.read_csv(\"prg3.csv\")\n",
        "features = [feat for feat in data]\n",
        "features.remove(\"Answer\")\n",
        "print(features)\n",
        "class Node:\n",
        "    def __init__(self):\n",
        "        self.children = []\n",
        "        self.value = \"\"\n",
        "        self.isLeaf = False\n",
        "        self.pred = \"\"\n",
        "\n",
        "def entropy(examples):\n",
        "    pos = 0.0\n",
        "    neg = 0.0\n",
        "    for _, row in examples.iterrows():\n",
        "        if row[\"Answer\"] == \"Yes\":\n",
        "            pos += 1\n",
        "        else:\n",
        "            neg += 1\n",
        "    if pos == 0.0 or neg == 0.0:\n",
        "        return 0.0\n",
        "    else:\n",
        "        p = pos / (pos + neg)\n",
        "        n = neg / (pos + neg)\n",
        "        return -(p * math.log(p, 2) + n * math.log(n, 2))\n",
        "def info_gain(examples, attr):\n",
        "    uniq = np.unique(examples[attr])\n",
        "    #print (\"\\n\",uniq)\n",
        "    gain = entropy(examples)\n",
        "    #print (\"\\n\",gain)\n",
        "    for u in uniq:\n",
        "        subdata = examples[examples[attr] == u]\n",
        "        #print (\"\\n\",subdata)\n",
        "        sub_e = entropy(subdata)\n",
        "        gain -= (float(len(subdata)) / float(len(examples))) * sub_e\n",
        "        #print (\"\\n\",gain)\n",
        "    return gain\n",
        "def ID3(examples, attrs):\n",
        "    root = Node()\n",
        "    max_gain = 0\n",
        "    max_feat = \"\"\n",
        "    for feature in attrs:\n",
        "        #print (\"\\n\",examples)\n",
        "        gain = info_gain(examples, feature)\n",
        "        if gain > max_gain:\n",
        "            max_gain = gain\n",
        "            max_feat = feature\n",
        "    root.value = max_feat\n",
        "    #print (\"\\nMax feature attr\",max_feat)\n",
        "    uniq = np.unique(examples[max_feat])\n",
        "    #print (\"\\n\",uniq)\n",
        "    for u in uniq:\n",
        "        #print (\"\\n\",u)\n",
        "        subdata = examples[examples[max_feat] == u]\n",
        "        #print (\"\\n\",subdata)\n",
        "        if entropy(subdata) == 0.0:\n",
        "            newNode = Node()\n",
        "            newNode.isLeaf = True\n",
        "            newNode.value = u\n",
        "            newNode.pred = np.unique(subdata[\"Answer\"])\n",
        "            root.children.append(newNode)\n",
        "        else:\n",
        "            dummyNode = Node()\n",
        "            dummyNode.value = u\n",
        "            new_attrs = attrs.copy()\n",
        "            new_attrs.remove(max_feat)\n",
        "            child = ID3(subdata, new_attrs)\n",
        "            dummyNode.children.append(child)\n",
        "            root.children.append(dummyNode)\n",
        "    return root\n",
        "def printTree(root: Node, depth=0):\n",
        "    for i in range(depth):\n",
        "        print(\"\\t\", end=\"\")\n",
        "    print(root.value, end=\"\")\n",
        "    if root.isLeaf:\n",
        "        print(\" -> \", root.pred)\n",
        "    print()\n",
        "    for child in root.children:\n",
        "        printTree(child, depth + 1)\n",
        "def classify(root: Node, new):\n",
        "    for child in root.children:\n",
        "        if child.value == new[root.value]:\n",
        "            if child.isLeaf:\n",
        "                print (\"Predicted Label for new example\", new,\" is:\", child.pred)\n",
        "                exit\n",
        "            else:\n",
        "                classify(child.children[0], new)\n",
        "root = ID3(data, features)\n",
        "print(\"Decision Tree is:\")\n",
        "printTree(root)\n",
        "print(\"------------------\")\n",
        "new = {\"Outlook\":\"Sunny\", \"Temperature\":\"Hot\", \"Humidity\":\"High\", \"Wind\":\"Weak\"}\n",
        "classify(root, new)\n"
      ],
      "metadata": {
        "colab": {
          "base_uri": "https://localhost:8080/"
        },
        "id": "c6_d09yAOp27",
        "outputId": "2d307c91-4bac-44b2-88e4-aa7341b81d95"
      },
      "execution_count": null,
      "outputs": [
        {
          "output_type": "stream",
          "name": "stdout",
          "text": [
            "['Outlook', 'Temperature', 'Humidity', 'Wind']\n",
            "Decision Tree is:\n",
            "Outlook\n",
            "\tOvercast ->  ['Yes']\n",
            "\n",
            "\tRain\n",
            "\t\tWind\n",
            "\t\t\tStrong ->  ['No']\n",
            "\n",
            "\t\t\tWeak ->  ['Yes']\n",
            "\n",
            "\tSunny\n",
            "\t\tHumidity\n",
            "\t\t\tHigh ->  ['No']\n",
            "\n",
            "\t\t\tNormal ->  ['Yes']\n",
            "\n",
            "------------------\n",
            "Predicted Label for new example {'Outlook': 'Sunny', 'Temperature': 'Hot', 'Humidity': 'High', 'Wind': 'Weak'}  is: ['No']\n"
          ]
        }
      ]
    },
    {
      "cell_type": "code",
      "source": [],
      "metadata": {
        "id": "cR-8hLjDTA0H"
      },
      "execution_count": null,
      "outputs": []
    },
    {
      "cell_type": "markdown",
      "source": [
        "# Lab Program 4"
      ],
      "metadata": {
        "id": "2aPkJyHdeTi6"
      }
    },
    {
      "cell_type": "code",
      "source": [
        "import numpy as np\n",
        "X = np.array(([2, 9], [1, 5], [3, 6]), dtype=float)\n",
        "y = np.array(([92], [86], [89]), dtype=float)\n",
        "X = X/np.amax(X,axis=0) # maximum of X array longitudinally\n",
        "y = y/100\n",
        "#Sigmoid Function\n",
        "def sigmoid (x):\n",
        "    return 1/(1 + np.exp(-x))\n",
        "#Derivative of Sigmoid Function\n",
        "def derivatives_sigmoid(x):\n",
        "    return x * (1 - x)\n",
        "#Variable initialization\n",
        "epoch=5000 #Setting training iterations\n",
        "lr=0.1 #Setting learning rate\n",
        "inputlayer_neurons = 2 #number of features in data set\n",
        "hiddenlayer_neurons = 3 #number of hidden layers neurons\n",
        "output_neurons = 1 #number of neurons at output layer\n",
        "#weight and bias initialization\n",
        "wh=np.random.uniform(size=(inputlayer_neurons,hiddenlayer_neurons))\n",
        "bh=np.random.uniform(size=(1,hiddenlayer_neurons))\n",
        "wout=np.random.uniform(size=(hiddenlayer_neurons,output_neurons))\n",
        "bout=np.random.uniform(size=(1,output_neurons))\n",
        "#draws a random range of numbers uniformly of dim x*y\n",
        "for i in range(epoch):\n",
        "    #Forward Propogation\n",
        "    hinp1=np.dot(X,wh)\n",
        "    hinp=hinp1 + bh\n",
        "    hlayer_act = sigmoid(hinp)\n",
        "    outinp1=np.dot(hlayer_act,wout)\n",
        "    outinp= outinp1+ bout\n",
        "    output = sigmoid(outinp)\n",
        "    #Backpropagation\n",
        "    EO = y-output\n",
        "    outgrad = derivatives_sigmoid(output)\n",
        "    d_output = EO* outgrad\n",
        "    EH = d_output.dot(wout.T)\n",
        "    #how much hidden layer wts contributed to error\n",
        "    hiddengrad = derivatives_sigmoid(hlayer_act)\n",
        "    d_hiddenlayer = EH * hiddengrad\n",
        "    # dotproduct of nextlayererror and currentlayerop\n",
        "    wout += hlayer_act.T.dot(d_output) *lr\n",
        "    wh += X.T.dot(d_hiddenlayer) *lr\n",
        "print(\"Input: \\n\" + str(X))\n",
        "print(\"Actual Output: \\n\" + str(y))\n",
        "print(\"Predicted Output: \\n\" ,output)\n"
      ],
      "metadata": {
        "colab": {
          "base_uri": "https://localhost:8080/"
        },
        "id": "7axM8a_yeV8e",
        "outputId": "1376b0e7-8a69-44b1-e2e0-a05818cfd057"
      },
      "execution_count": null,
      "outputs": [
        {
          "output_type": "stream",
          "name": "stdout",
          "text": [
            "Input: \n",
            "[[0.66666667 1.        ]\n",
            " [0.33333333 0.55555556]\n",
            " [1.         0.66666667]]\n",
            "Actual Output: \n",
            "[[0.92]\n",
            " [0.86]\n",
            " [0.89]]\n",
            "Predicted Output: \n",
            " [[0.89481575]\n",
            " [0.88111923]\n",
            " [0.8940829 ]]\n"
          ]
        }
      ]
    },
    {
      "cell_type": "code",
      "source": [],
      "metadata": {
        "id": "8ZrpSbaPetFb"
      },
      "execution_count": null,
      "outputs": []
    },
    {
      "cell_type": "markdown",
      "source": [
        "# Lab Program 5"
      ],
      "metadata": {
        "id": "wftfUb-ueyct"
      }
    },
    {
      "cell_type": "markdown",
      "source": [
        "The below dataset contains nearly 400 values"
      ],
      "metadata": {
        "id": "gwZtr4URo3wV"
      }
    },
    {
      "cell_type": "code",
      "source": [
        "#Importing the libraries\n",
        "import numpy as np\n",
        "import matplotlib.pyplot as plt\n",
        "import pandas as pd\n",
        "# Importing the dataset\n",
        "dataset = pd.read_csv(\"prg5.csv\")\n",
        "X = dataset.iloc[:, [2, 3]].values\n",
        "y = dataset.iloc[:, -1].values\n",
        "# Splitting the dataset into the Training set and Test set\n",
        "from sklearn.model_selection import train_test_split\n",
        "X_train, X_test, y_train, y_test = train_test_split(X, y, test_size = 0.20,random_state = 0)\n",
        "# Feature Scaling\n",
        "from sklearn.preprocessing import StandardScaler\n",
        "sc = StandardScaler()\n",
        "X_train = sc.fit_transform(X_train)\n",
        "X_test = sc.transform(X_test)\n",
        "# Training the Naive Bayes model on the Training set\n",
        "from sklearn.naive_bayes import GaussianNB\n",
        "classifier = GaussianNB()\n",
        "classifier.fit(X_train, y_train)\n",
        "# Predicting the Test set results\n",
        "y_pred = classifier.predict(X_test)\n",
        "# Making the Confusion Matrix\n",
        "from sklearn.metrics import confusion_matrix, accuracy_score\n",
        "ac = accuracy_score(y_test,y_pred)\n",
        "cm = confusion_matrix(y_test, y_pred)\n",
        "print(ac)"
      ],
      "metadata": {
        "colab": {
          "base_uri": "https://localhost:8080/"
        },
        "id": "Db4DBsu9e2BS",
        "outputId": "7beee712-fc3c-4136-af95-1c797963ec86"
      },
      "execution_count": null,
      "outputs": [
        {
          "output_type": "stream",
          "name": "stdout",
          "text": [
            "0.9125\n"
          ]
        }
      ]
    },
    {
      "cell_type": "code",
      "source": [],
      "metadata": {
        "id": "nUyAQ7Rne-mR"
      },
      "execution_count": null,
      "outputs": []
    },
    {
      "cell_type": "markdown",
      "source": [
        "# Lab Porgram 6"
      ],
      "metadata": {
        "id": "aSIYJyPYehb5"
      }
    },
    {
      "cell_type": "code",
      "source": [
        "from sklearn.cluster import KMeans\n",
        "from sklearn import preprocessing\n",
        "from sklearn.mixture import GaussianMixture\n",
        "from sklearn.datasets import load_iris\n",
        "import sklearn.metrics as sm\n",
        "import pandas as pd\n",
        "import numpy as np\n",
        "import matplotlib.pyplot as plt\n",
        "dataset=load_iris()\n",
        "# print(dataset)\n",
        "X=pd.DataFrame(dataset.data)\n",
        "X.columns=['Sepal_Length','Sepal_Width','Petal_Length','Petal_Width']\n",
        "y=pd.DataFrame(dataset.target)\n",
        "y.columns=['Targets']\n",
        "# print(X)\n",
        "%matplotlib inline\n",
        "plt.figure(figsize=(14,7))\n",
        "colormap=np.array(['red','lime','black'])\n",
        "# REAL PLOT\n",
        "plt.subplot(1,3,1)\n",
        "plt.scatter(X.Petal_Length,X.Petal_Width,c=colormap[y.Targets],s=30)\n",
        "plt.title('Real')\n",
        "# K-PLOT\n",
        "plt.subplot(1,3,2)\n",
        "model=KMeans(n_clusters=3)\n",
        "model.fit(X)\n",
        "predY=np.choose(model.labels_,[0,1,2]).astype(np.int64)\n",
        "plt.scatter(X.Petal_Length,X.Petal_Width,c=colormap[predY],s=30)\n",
        "plt.title('KMeans')\n",
        "# GMM PLOT\n",
        "scaler=preprocessing.StandardScaler()\n",
        "scaler.fit(X)\n",
        "xsa=scaler.transform(X)\n",
        "xs=pd.DataFrame(xsa,columns=X.columns)\n",
        "gmm=GaussianMixture(n_components=3)\n",
        "gmm.fit(xs)\n",
        "y_cluster_gmm=gmm.predict(xs)\n",
        "plt.subplot(1,3,3)\n",
        "plt.scatter(X.Petal_Length,X.Petal_Width,c=colormap[y_cluster_gmm],s=30)\n",
        "plt.title('GMM Classification')"
      ],
      "metadata": {
        "colab": {
          "base_uri": "https://localhost:8080/",
          "height": 591
        },
        "id": "0lSCk4uweh4N",
        "outputId": "545ea902-ee08-467a-cd88-4162095f9e86"
      },
      "execution_count": null,
      "outputs": [
        {
          "output_type": "stream",
          "name": "stderr",
          "text": [
            "/usr/local/lib/python3.10/dist-packages/sklearn/cluster/_kmeans.py:870: FutureWarning: The default value of `n_init` will change from 10 to 'auto' in 1.4. Set the value of `n_init` explicitly to suppress the warning\n",
            "  warnings.warn(\n"
          ]
        },
        {
          "output_type": "execute_result",
          "data": {
            "text/plain": [
              "Text(0.5, 1.0, 'GMM Classification')"
            ]
          },
          "metadata": {},
          "execution_count": 16
        },
        {
          "output_type": "display_data",
          "data": {
            "text/plain": [
              "<Figure size 1400x700 with 3 Axes>"
            ],
            "image/png": "[encoded data removed]"
          },
          "metadata": {}
        }
      ]
    },
    {
      "cell_type": "code",
      "source": [],
      "metadata": {
        "id": "tyruHl_1h3Qk"
      },
      "execution_count": null,
      "outputs": []
    },
    {
      "cell_type": "markdown",
      "source": [
        "# Lab Program 7"
      ],
      "metadata": {
        "id": "y05mNvnOfNr9"
      }
    },
    {
      "cell_type": "code",
      "source": [
        "#Theres some matter to be written before code in record\n",
        "#cleveland dataset in not obtained clearly soo i downloaded another dataset from kaggle soo the output is different. So the values and parameters are changed\n",
        "!pip install pgmpy #<- Make this as comment after once installing it\n",
        "\n",
        "import numpy as np\n",
        "import csv\n",
        "import pandas as pd\n",
        "from pgmpy.models import BayesianNetwork\n",
        "from pgmpy.estimators import MaximumLikelihoodEstimator\n",
        "from pgmpy.inference import VariableElimination\n",
        "from sklearn.cluster import KMeans\n",
        "\n",
        "#read Cleveland Heart Disease data\n",
        "heartDisease = pd.read_csv('prg7.csv')\n",
        "heartDisease = heartDisease.replace('?',np.nan)\n",
        "\n",
        "#display the data\n",
        "print('Few examples from the dataset are given below')\n",
        "print(heartDisease.head())\n",
        "\n",
        "#Model Bayesian Network\n",
        "Model=BayesianNetwork([('age','trestbps'),('age','fbs'),('sex','trestbps'),('exang','trestbps'),('trestbps','target'),('fbs','target'),('target','restecg'),('target','thalach'),('target','chol')])\n",
        "\n",
        "#Learning CPDs using Maximum Likelihood Estimators\n",
        "print('\\n Learning CPD using Maximum likelihood estimators')\n",
        "Model.fit(heartDisease, estimator=MaximumLikelihoodEstimator)\n",
        "\n",
        "# Inferencing with Bayesian Network\n",
        "print('\\n Inferencing with Bayesian Network:')\n",
        "HeartDisease_infer = VariableElimination(Model)\n",
        "\n",
        "#computing the Probability of HeartDisease given Age\n",
        "print('\\n 1. Probability of HeartDisease given Age=29')\n",
        "q=HeartDisease_infer.query(variables=['target'],evidence={'age':29})\n",
        "print(q)\n",
        "\n",
        "#computing the Probability of HeartDisease given cholesterol\n",
        "print('\\n 2. Probability of HeartDisease given cholesterol=126')\n",
        "q=HeartDisease_infer.query(variables=['target'],evidence={'chol':126})\n",
        "print(q)\n"
      ],
      "metadata": {
        "colab": {
          "base_uri": "https://localhost:8080/"
        },
        "id": "QawJiRyHfN1r",
        "outputId": "7e36cf3b-c7fc-4ddb-b1ce-99e213eaad92"
      },
      "execution_count": null,
      "outputs": [
        {
          "output_type": "stream",
          "name": "stdout",
          "text": [
            "Collecting pgmpy\n",
            "  Downloading pgmpy-0.1.24-py3-none-any.whl (2.0 MB)\n",
            "\u001b[2K     \u001b[90m━━━━━━━━━━━━━━━━━━━━━━━━━━━━━━━━━━━━━━━━\u001b[0m \u001b[32m2.0/2.0 MB\u001b[0m \u001b[31m8.5 MB/s\u001b[0m eta \u001b[36m0:00:00\u001b[0m\n",
            "\u001b[?25hRequirement already satisfied: networkx in /usr/local/lib/python3.10/dist-packages (from pgmpy) (3.1)\n",
            "Requirement already satisfied: numpy in /usr/local/lib/python3.10/dist-packages (from pgmpy) (1.23.5)\n",
            "Requirement already satisfied: scipy in /usr/local/lib/python3.10/dist-packages (from pgmpy) (1.11.3)\n",
            "Requirement already satisfied: scikit-learn in /usr/local/lib/python3.10/dist-packages (from pgmpy) (1.2.2)\n",
            "Requirement already satisfied: pandas in /usr/local/lib/python3.10/dist-packages (from pgmpy) (1.5.3)\n",
            "Requirement already satisfied: pyparsing in /usr/local/lib/python3.10/dist-packages (from pgmpy) (3.1.1)\n",
            "Requirement already satisfied: torch in /usr/local/lib/python3.10/dist-packages (from pgmpy) (2.0.1+cu118)\n",
            "Requirement already satisfied: statsmodels in /usr/local/lib/python3.10/dist-packages (from pgmpy) (0.14.0)\n",
            "Requirement already satisfied: tqdm in /usr/local/lib/python3.10/dist-packages (from pgmpy) (4.66.1)\n",
            "Requirement already satisfied: joblib in /usr/local/lib/python3.10/dist-packages (from pgmpy) (1.3.2)\n",
            "Requirement already satisfied: opt-einsum in /usr/local/lib/python3.10/dist-packages (from pgmpy) (3.3.0)\n",
            "Requirement already satisfied: python-dateutil>=2.8.1 in /usr/local/lib/python3.10/dist-packages (from pandas->pgmpy) (2.8.2)\n",
            "Requirement already satisfied: pytz>=2020.1 in /usr/local/lib/python3.10/dist-packages (from pandas->pgmpy) (2023.3.post1)\n",
            "Requirement already satisfied: threadpoolctl>=2.0.0 in /usr/local/lib/python3.10/dist-packages (from scikit-learn->pgmpy) (3.2.0)\n",
            "Requirement already satisfied: patsy>=0.5.2 in /usr/local/lib/python3.10/dist-packages (from statsmodels->pgmpy) (0.5.3)\n",
            "Requirement already satisfied: packaging>=21.3 in /usr/local/lib/python3.10/dist-packages (from statsmodels->pgmpy) (23.2)\n",
            "Requirement already satisfied: filelock in /usr/local/lib/python3.10/dist-packages (from torch->pgmpy) (3.12.4)\n",
            "Requirement already satisfied: typing-extensions in /usr/local/lib/python3.10/dist-packages (from torch->pgmpy) (4.5.0)\n",
            "Requirement already satisfied: sympy in /usr/local/lib/python3.10/dist-packages (from torch->pgmpy) (1.12)\n",
            "Requirement already satisfied: jinja2 in /usr/local/lib/python3.10/dist-packages (from torch->pgmpy) (3.1.2)\n",
            "Requirement already satisfied: triton==2.0.0 in /usr/local/lib/python3.10/dist-packages (from torch->pgmpy) (2.0.0)\n",
            "Requirement already satisfied: cmake in /usr/local/lib/python3.10/dist-packages (from triton==2.0.0->torch->pgmpy) (3.27.6)\n",
            "Requirement already satisfied: lit in /usr/local/lib/python3.10/dist-packages (from triton==2.0.0->torch->pgmpy) (17.0.2)\n",
            "Requirement already satisfied: six in /usr/local/lib/python3.10/dist-packages (from patsy>=0.5.2->statsmodels->pgmpy) (1.16.0)\n",
            "Requirement already satisfied: MarkupSafe>=2.0 in /usr/local/lib/python3.10/dist-packages (from jinja2->torch->pgmpy) (2.1.3)\n",
            "Requirement already satisfied: mpmath>=0.19 in /usr/local/lib/python3.10/dist-packages (from sympy->torch->pgmpy) (1.3.0)\n",
            "Installing collected packages: pgmpy\n",
            "Successfully installed pgmpy-0.1.24\n",
            "Few examples from the dataset are given below\n",
            "   age  sex  cp  trestbps  chol  fbs  restecg  thalach  exang  oldpeak  slope  \\\n",
            "0   52    1   0       125   212    0        1      168      0      1.0      2   \n",
            "1   53    1   0       140   203    1        0      155      1      3.1      0   \n",
            "2   70    1   0       145   174    0        1      125      1      2.6      0   \n",
            "3   61    1   0       148   203    0        1      161      0      0.0      2   \n",
            "4   62    0   0       138   294    1        1      106      0      1.9      1   \n",
            "\n",
            "   ca  thal  target  \n",
            "0   2     3       0  \n",
            "1   0     3       0  \n",
            "2   0     3       0  \n",
            "3   1     3       0  \n",
            "4   3     2       0  \n",
            "\n",
            " Learning CPD using Maximum likelihood estimators\n",
            "\n",
            " Inferencing with Bayesian Network:\n",
            "\n",
            " 1. Probability of HeartDisease given Age=29\n",
            "+-----------+---------------+\n",
            "| target    |   phi(target) |\n",
            "+===========+===============+\n",
            "| target(0) |        0.4019 |\n",
            "+-----------+---------------+\n",
            "| target(1) |        0.5981 |\n",
            "+-----------+---------------+\n",
            "\n",
            " 2. Probability of HeartDisease given cholesterol=126\n",
            "+-----------+---------------+\n",
            "| target    |   phi(target) |\n",
            "+===========+===============+\n",
            "| target(0) |        0.0000 |\n",
            "+-----------+---------------+\n",
            "| target(1) |        1.0000 |\n",
            "+-----------+---------------+\n"
          ]
        }
      ]
    },
    {
      "cell_type": "code",
      "source": [],
      "metadata": {
        "id": "D2Fowz7dj4iK"
      },
      "execution_count": null,
      "outputs": []
    },
    {
      "cell_type": "markdown",
      "source": [
        "# Lab Program 8"
      ],
      "metadata": {
        "id": "MhXwNohmL67b"
      }
    },
    {
      "cell_type": "code",
      "source": [
        "import numpy as np\n",
        "import pandas as pd\n",
        "from sklearn.neighbors import KNeighborsClassifier\n",
        "from sklearn.model_selection import train_test_split\n",
        "from sklearn import metrics\n",
        "\n",
        "# Read dataset to pandas dataframe\n",
        "df = pd.read_csv(\"prg8.csv\")\n",
        "\n",
        "# Droping the unnecessary columns\n",
        "df=df.drop(['Id'],axis=1)\n",
        "\n",
        "# changing the column names as per our need\n",
        "df.columns=['Sepal_Length','Sepal_Width','Petal_Length','Petal_Width','Species']\n",
        "\n",
        "flower_count=df['Species'].value_counts()\n",
        "\n",
        "print(df.info())\n",
        "\n",
        "X = df[['Sepal_Length', 'Sepal_Width','Petal_Length','Petal_Width']]\n",
        "y = df['Species']\n",
        "\n",
        "Xtrain, Xtest, ytrain, ytest = train_test_split(X, y, test_size=0.10)\n",
        "classifier = KNeighborsClassifier(n_neighbors=5).fit(Xtrain, ytrain)\n",
        "ypred = classifier.predict(Xtest)\n",
        "i = 0\n",
        "print (\"\\n-------------------------------------------------------------------------\")\n",
        "print ('%-25s %-25s %-25s' % ('Original Label', 'Predicted Label', 'Correct/Wrong'))\n",
        "print (\"-------------------------------------------------------------------------\")\n",
        "for label in ytest:\n",
        "    print ('%-25s %-25s' % (label, ypred[i]), end=\"\")\n",
        "    if (label == ypred[i]):\n",
        "        print (' %-25s' % ('Correct'))\n",
        "    else:\n",
        "        print (' %-25s' % ('Wrong'))\n",
        "    i = i + 1\n",
        "print (\"-------------------------------------------------------------------------\")\n",
        "print(\"\\nConfusion Matrix:\\n\",metrics.confusion_matrix(ytest, ypred))\n",
        "print (\"-------------------------------------------------------------------------\")\n",
        "print(\"\\nClassification Report:\\n\",metrics.classification_report(ytest, ypred))\n",
        "print (\"-------------------------------------------------------------------------\")\n",
        "print('Accuracy of the classifier is %0.2f' % metrics.accuracy_score(ytest,ypred))\n",
        "print (\"-------------------------------------------------------------------------\")\n"
      ],
      "metadata": {
        "colab": {
          "base_uri": "https://localhost:8080/"
        },
        "id": "S5X9wjj5L8_f",
        "outputId": "eca0e026-2981-4a9d-d67d-209f31f24a2f"
      },
      "execution_count": null,
      "outputs": [
        {
          "output_type": "stream",
          "name": "stdout",
          "text": [
            "<class 'pandas.core.frame.DataFrame'>\n",
            "RangeIndex: 150 entries, 0 to 149\n",
            "Data columns (total 5 columns):\n",
            " #   Column        Non-Null Count  Dtype  \n",
            "---  ------        --------------  -----  \n",
            " 0   Sepal_Length  150 non-null    float64\n",
            " 1   Sepal_Width   150 non-null    float64\n",
            " 2   Petal_Length  150 non-null    float64\n",
            " 3   Petal_Width   150 non-null    float64\n",
            " 4   Species       150 non-null    object \n",
            "dtypes: float64(4), object(1)\n",
            "memory usage: 6.0+ KB\n",
            "None\n",
            "\n",
            "-------------------------------------------------------------------------\n",
            "Original Label            Predicted Label           Correct/Wrong            \n",
            "-------------------------------------------------------------------------\n",
            "Iris-versicolor           Iris-versicolor           Correct                  \n",
            "Iris-virginica            Iris-virginica            Correct                  \n",
            "Iris-virginica            Iris-virginica            Correct                  \n",
            "Iris-virginica            Iris-virginica            Correct                  \n",
            "Iris-virginica            Iris-virginica            Correct                  \n",
            "Iris-setosa               Iris-setosa               Correct                  \n",
            "Iris-virginica            Iris-virginica            Correct                  \n",
            "Iris-virginica            Iris-virginica            Correct                  \n",
            "Iris-setosa               Iris-setosa               Correct                  \n",
            "Iris-versicolor           Iris-versicolor           Correct                  \n",
            "Iris-versicolor           Iris-versicolor           Correct                  \n",
            "Iris-virginica            Iris-virginica            Correct                  \n",
            "Iris-versicolor           Iris-versicolor           Correct                  \n",
            "Iris-versicolor           Iris-versicolor           Correct                  \n",
            "Iris-virginica            Iris-virginica            Correct                  \n",
            "-------------------------------------------------------------------------\n",
            "\n",
            "Confusion Matrix:\n",
            " [[2 0 0]\n",
            " [0 5 0]\n",
            " [0 0 8]]\n",
            "-------------------------------------------------------------------------\n",
            "\n",
            "Classification Report:\n",
            "                  precision    recall  f1-score   support\n",
            "\n",
            "    Iris-setosa       1.00      1.00      1.00         2\n",
            "Iris-versicolor       1.00      1.00      1.00         5\n",
            " Iris-virginica       1.00      1.00      1.00         8\n",
            "\n",
            "       accuracy                           1.00        15\n",
            "      macro avg       1.00      1.00      1.00        15\n",
            "   weighted avg       1.00      1.00      1.00        15\n",
            "\n",
            "-------------------------------------------------------------------------\n",
            "Accuracy of the classifier is 1.00\n",
            "-------------------------------------------------------------------------\n"
          ]
        }
      ]
    },
    {
      "cell_type": "code",
      "source": [],
      "metadata": {
        "id": "hgAsz3qITbSX"
      },
      "execution_count": null,
      "outputs": []
    },
    {
      "cell_type": "markdown",
      "source": [
        "# Lab Program 9"
      ],
      "metadata": {
        "id": "XOS8d0ghZgqd"
      }
    },
    {
      "cell_type": "code",
      "source": [
        "import matplotlib.pyplot as plt\n",
        "import pandas as pd\n",
        "import numpy as np\n",
        "%matplotlib inline\n",
        "\n",
        "def kernel(point, xmat, k):\n",
        "    m,n = np.shape(xmat)\n",
        "    weights = np.mat(np.eye((m)))\n",
        "    for j in range(m):\n",
        "        diff = point - X[j]\n",
        "        weights[j,j] = np.exp(diff*diff.T/(-2.0*k**2))\n",
        "    return weights\n",
        "def localWeight(point, xmat, ymat, k):\n",
        "    wei = kernel(point,xmat,k)\n",
        "    W = (X.T*(wei*X)).I*(X.T*(wei*ymat.T))\n",
        "    return W\n",
        "\n",
        "def localWeightRegression(xmat, ymat, k):\n",
        "    m,n = np.shape(xmat)\n",
        "    ypred = np.zeros(m)\n",
        "    for i in range(m):\n",
        "        ypred[i] =xmat[i]*localWeight(xmat[i],xmat,ymat,k)\n",
        "    return ypred\n",
        "\n",
        "# load data points\n",
        "data = pd.read_csv('prg9.csv')\n",
        "bill = np.array(data.total_bill)\n",
        "tip = np.array(data.tip)\n",
        "#preparing and add 1 in bill\n",
        "mbill = np.mat(bill)\n",
        "mtip = np.mat(tip)\n",
        "m= np.shape(mbill)[1]\n",
        "one = np.mat(np.ones(m))\n",
        "X = np.hstack((one.T,mbill.T))\n",
        "#set k here\n",
        "ypred = localWeightRegression(X,mtip,0.5)\n",
        "SortIndex = X[:,1].argsort(0)\n",
        "xsort = X[SortIndex][:,0]\n",
        "fig = plt.figure()\n",
        "ax = fig.add_subplot(1,1,1)\n",
        "ax.scatter(bill,tip, color='green')\n",
        "ax.plot(xsort[:,1],ypred[SortIndex], color = 'red', linewidth=5)\n",
        "plt.xlabel('Total bill')\n",
        "plt.ylabel('Tip')\n",
        "plt.show();"
      ],
      "metadata": {
        "colab": {
          "base_uri": "https://localhost:8080/",
          "height": 449
        },
        "id": "6KofF54JZg_h",
        "outputId": "eb8294e4-c36f-41d1-f6f0-2f003a8270de"
      },
      "execution_count": null,
      "outputs": [
        {
          "output_type": "display_data",
          "data": {
            "text/plain": [
              "<Figure size 640x480 with 1 Axes>"
            ],
            "image/png": "[encoded data removed]"
          },
          "metadata": {}
        }
      ]
    },
    {
      "cell_type": "code",
      "source": [],
      "metadata": {
        "id": "Cwbv12XobQ5Y"
      },
      "execution_count": null,
      "outputs": []
    },
    {
      "cell_type": "markdown",
      "source": [
        "# Lab Program 10"
      ],
      "metadata": {
        "id": "L0Lt4isxcAVG"
      }
    },
    {
      "cell_type": "code",
      "source": [
        "import pandas as pd\n",
        "from sklearn.model_selection import train_test_split\n",
        "from sklearn.feature_extraction.text import CountVectorizer\n",
        "from sklearn.naive_bayes import MultinomialNB\n",
        "from sklearn import metrics\n",
        "\n",
        "try:\n",
        "    msg = pd.read_csv('prg10.csv',names=['message','label'], encoding='iso-8859-1')\n",
        "    # If successful, you can now work with the DataFrame 'df'\n",
        "except UnicodeDecodeError:\n",
        "    print(\"Unable to read the CSV file with the specified encoding.\")\n",
        "\n",
        "print('The dimensions of the dataset',msg.shape)\n",
        "msg['labelnum']=msg.label.map({'pos':1,'neg':0})\n",
        "X=msg.message\n",
        "y=msg.labelnum\n",
        "\n",
        "#splitting the dataset into train and test data\n",
        "xtrain,xtest,ytrain,ytest=train_test_split(X,y)\n",
        "\n",
        "print ('\\n the total number of Training Data :',ytrain.shape)\n",
        "\n",
        "print ('\\n the total number of Test Data :',ytest.shape)\n",
        "\n",
        "#output the words or Tokens in the text documents\n",
        "cv = CountVectorizer()\n",
        "xtrain_dtm = cv.fit_transform(xtrain)\n",
        "xtest_dtm=cv.transform(xtest)\n",
        "\n",
        "print('\\n The words or Tokens in the text documents \\n')\n",
        "print(cv.get_feature_names_out())\n",
        "df=pd.DataFrame(xtrain_dtm.toarray(),columns=cv.get_feature_names_out())\n",
        "\n",
        "# It contains Null Values\n",
        "ytrain = ytrain.fillna(0)\n",
        "\n",
        "\n",
        "# Training Naive Bayes (NB) classifier on training data.\n",
        "clf = MultinomialNB().fit(xtrain_dtm,ytrain)\n",
        "predicted = clf.predict(xtest_dtm)\n",
        "\n",
        "#printing accuracy, Confusion matrix, Precision and Recall\n",
        "print('\\n Accuracy of the classifier is',metrics.accuracy_score(ytest,predicted))\n",
        "print('\\n Confusion matrix')\n",
        "print(metrics.confusion_matrix(ytest,predicted))\n",
        "print('\\n The value of Precision', metrics.precision_score(ytest,predicted))\n",
        "print('\\n The value of Recall', metrics.recall_score(ytest,predicted))"
      ],
      "metadata": {
        "colab": {
          "base_uri": "https://localhost:8080/"
        },
        "id": "fwmIoGuucFhX",
        "outputId": "d5f3c14d-4c30-42c9-b512-6cad13b3d0f6"
      },
      "execution_count": null,
      "outputs": [
        {
          "output_type": "stream",
          "name": "stdout",
          "text": [
            "The dimensions of the dataset (19, 2)\n",
            "\n",
            " the total number of Training Data : (14,)\n",
            "\n",
            " the total number of Test Data : (5,)\n",
            "\n",
            " The words or Tokens in the text documents \n",
            "\n",
            "['am' 'amazing' 'an' 'and' 'awesome' 'bad' 'best' 'do' 'documents' 'enemy'\n",
            " 'fun' 'good' 'great' 'have' 'holiday' 'house' 'is' 'juice' 'like'\n",
            " 'locality' 'love' 'my' 'not' 'of' 'place' 'restaurant' 'sandwich' 'sick'\n",
            " 'stay' 'stuff' 'taste' 'text' 'that' 'the' 'this' 'tired' 'to' 'today'\n",
            " 'tomorrow' 'view' 'we' 'went' 'what' 'will' 'work']\n",
            "\n",
            " Accuracy of the classifier is 0.2\n",
            "\n",
            " Confusion matrix\n",
            "[[0 3]\n",
            " [1 1]]\n",
            "\n",
            " The value of Precision 0.25\n",
            "\n",
            " The value of Recall 0.5\n"
          ]
        }
      ]
    },
    {
      "cell_type": "code",
      "source": [],
      "metadata": {
        "id": "phjv4iCWdyoV"
      },
      "execution_count": null,
      "outputs": []
    }
  ]
}